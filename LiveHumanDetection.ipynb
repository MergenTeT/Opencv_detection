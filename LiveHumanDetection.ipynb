{
 "cells": [
  {
   "cell_type": "code",
   "execution_count": 2,
   "id": "e95d1eba",
   "metadata": {},
   "outputs": [],
   "source": [
    "import cv2 as cv\n",
    "import numpy as np\n",
    "import matplotlib.pyplot as plt\n",
    "import imutils "
   ]
  },
  {
   "cell_type": "code",
   "execution_count": 3,
   "id": "756cadf1",
   "metadata": {},
   "outputs": [],
   "source": [
    "hog = cv.HOGDescriptor()\n",
    "hog.setSVMDetector(cv.HOGDescriptor_getDefaultPeopleDetector())"
   ]
  },
  {
   "cell_type": "code",
   "execution_count": 5,
   "id": "bc355995",
   "metadata": {},
   "outputs": [],
   "source": [
    "cap = cv.VideoCapture(0)\n",
    "\n",
    "while True:\n",
    "    _,frame=cap.read()\n",
    "    frame = imutils.resize(frame,width=min(400,frame.shape[1]))\n",
    "    \n",
    "    regions,_ = hog.detectMultiScale(frame,winStride=(4, 4),\n",
    "                                            padding=(4, 4),\n",
    "                                            scale=1.05)\n",
    "    \n",
    "    for (x,y,w,h) in regions :\n",
    "        cv.rectangle(frame,(x,y),(x+w,y+h),(0,0,255),3)\n",
    "    cv.imshow(\"Video\",frame)\n",
    "    \n",
    "    if cv.waitKey(25) & 0xFF == ord(\"q\"):\n",
    "        break\n",
    "        \n",
    "cap.release()\n",
    "cv.destroyAllWindows()"
   ]
  },
  {
   "cell_type": "code",
   "execution_count": null,
   "id": "a11ec3a2",
   "metadata": {},
   "outputs": [],
   "source": []
  }
 ],
 "metadata": {
  "kernelspec": {
   "display_name": "Python 3 (ipykernel)",
   "language": "python",
   "name": "python3"
  },
  "language_info": {
   "codemirror_mode": {
    "name": "ipython",
    "version": 3
   },
   "file_extension": ".py",
   "mimetype": "text/x-python",
   "name": "python",
   "nbconvert_exporter": "python",
   "pygments_lexer": "ipython3",
   "version": "3.9.13"
  }
 },
 "nbformat": 4,
 "nbformat_minor": 5
}
